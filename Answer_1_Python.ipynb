{
  "nbformat": 4,
  "nbformat_minor": 0,
  "metadata": {
    "colab": {
      "provenance": []
    },
    "kernelspec": {
      "name": "python3",
      "display_name": "Python 3"
    },
    "language_info": {
      "name": "python"
    }
  },
  "cells": [
    {
      "cell_type": "code",
      "execution_count": 1,
      "metadata": {
        "id": "JnEnfBRWmNM0"
      },
      "outputs": [],
      "source": [
        "def create_output_dict(input_dict, current_path=None):\n",
        "    if current_path is None:\n",
        "        current_path = []\n",
        "\n",
        "    output_dict = {}\n",
        "\n",
        "    for key, value in input_dict.items():\n",
        "        new_path = current_path + [key]\n",
        "        if isinstance(value, dict):\n",
        "            child_dict = create_output_dict(value, new_path)\n",
        "            output_dict[key] = list(child_dict.keys())\n",
        "            output_dict.update(child_dict)\n",
        "        else:\n",
        "            output_dict[key] = [value]\n",
        "\n",
        "    return output_dict"
      ]
    },
    {
      "cell_type": "code",
      "source": [
        "input_dict = {\"abc\":{\"def\":{\"ghi\":{\"jkl\":{\"mno\":{\"pqr\":{\"stu\":{\"vwx\":{\"yz\":\"you are finally here !!!\"}}}}}}}}}\n",
        "output_dict = create_output_dict(input_dict)"
      ],
      "metadata": {
        "colab": {
          "base_uri": "https://localhost:8080/"
        },
        "id": "qf-TDLAJmRh_",
        "outputId": "60562aef-cb16-414a-f6a7-9d98ac7aac8b"
      },
      "execution_count": 2,
      "outputs": [
        {
          "output_type": "stream",
          "name": "stdout",
          "text": [
            "abc: ['def', 'ghi', 'jkl', 'mno', 'pqr', 'stu', 'vwx', 'yz']\n",
            "def: ['ghi', 'jkl', 'mno', 'pqr', 'stu', 'vwx', 'yz']\n",
            "ghi: ['jkl', 'mno', 'pqr', 'stu', 'vwx', 'yz']\n",
            "jkl: ['mno', 'pqr', 'stu', 'vwx', 'yz']\n",
            "mno: ['pqr', 'stu', 'vwx', 'yz']\n",
            "pqr: ['stu', 'vwx', 'yz']\n",
            "stu: ['vwx', 'yz']\n",
            "vwx: ['yz']\n",
            "yz: ['you are finally here !!!']\n"
          ]
        }
      ]
    }
  ]
}
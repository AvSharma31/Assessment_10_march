{
  "nbformat": 4,
  "nbformat_minor": 0,
  "metadata": {
    "colab": {
      "provenance": []
    },
    "kernelspec": {
      "name": "python3",
      "display_name": "Python 3"
    },
    "language_info": {
      "name": "python"
    }
  },
  "cells": [
    {
      "cell_type": "code",
      "execution_count": 1,
      "metadata": {
        "id": "duAbOyYsm3u2"
      },
      "outputs": [],
      "source": [
        "def max_min_distance(stalls, k):\n",
        "    stalls.sort()\n",
        "\n",
        "    def is_valid_distance(mid):\n",
        "        count_horses = 1\n",
        "        current_stall = stalls[0]\n",
        "\n",
        "        for stall in stalls[1:]:\n",
        "            if stall - current_stall >= mid:\n",
        "                count_horses += 1\n",
        "                current_stall = stall\n",
        "\n",
        "        return count_horses >= k\n",
        "\n",
        "    low, high = 0, stalls[-1]\n",
        "    result = 0\n",
        "\n",
        "    while low <= high:\n",
        "        mid = (low + high) // 2\n",
        "\n",
        "        if is_valid_distance(mid):\n",
        "            result = mid\n",
        "            low = mid + 1\n",
        "        else:\n",
        "            high = mid - 1\n",
        "\n",
        "    return result"
      ]
    },
    {
      "cell_type": "code",
      "source": [
        "stalls = [1, 2, 4, 8, 9]\n",
        "k = 3\n",
        "output = max_min_distance(stalls, k)\n",
        "print(\"Largest minimum distance:\", output)"
      ],
      "metadata": {
        "colab": {
          "base_uri": "https://localhost:8080/"
        },
        "id": "2qHtwNU_m77A",
        "outputId": "cffc7f13-3620-4118-8687-22828a0c34a4"
      },
      "execution_count": 2,
      "outputs": [
        {
          "output_type": "stream",
          "name": "stdout",
          "text": [
            "Largest minimum distance: 3\n"
          ]
        }
      ]
    }
  ]
}